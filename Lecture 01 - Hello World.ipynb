{
 "cells": [
  {
   "cell_type": "markdown",
   "metadata": {},
   "source": [
    "# Introduction to Python\n",
    "Instructor: Zhiyuan Yao\n",
    "\n",
    "Email: zyao9@stevens.edu"
   ]
  },
  {
   "cell_type": "markdown",
   "metadata": {},
   "source": [
    "## What is Python  \n",
    "Python is a high-level, interpreted and general-purpose dynamic programming language that focuses on code readability. The syntax in Python helps the programmers to do coding in fewer steps as compared to Java or C++. It supports multiple programming paradigms, including object-oriented, imperative, functional and procedural, and has a large and comprehensive standard library."
   ]
  },
  {
   "cell_type": "markdown",
   "metadata": {},
   "source": [
    "## History of Python"
   ]
  },
  {
   "cell_type": "markdown",
   "metadata": {},
   "source": [
    "Guido Van Rossum, the author of Python, decided to invent a script language during his boring Christmas holiday in 1989.  \n",
    "Now, he is working for Dropbox (Google).\n",
    "\n",
    "https://en.wikipedia.org/wiki/Guido_van_Rossum"
   ]
  },
  {
   "cell_type": "markdown",
   "metadata": {},
   "source": [
    "## Why Python?"
   ]
  },
  {
   "cell_type": "markdown",
   "metadata": {},
   "source": [
    "### Easy:\n",
    "   - C/C++ : Faster, hard to code (1000 lines code in C/C++ only cost 100 lines code in python).\n",
    "   - Jave : a little bit faster, too object oriented.\n",
    "   - Python: Extensive libraries, Integration with other languages, Code is concise, highly readible and compact.\n",
    "   \n",
    "### Big push:  \n",
    "   - TIOBE: Indicator of popularity of programming language. Python: Programming language of 2018! https://www.tiobe.com/tiobe-index/\n",
    "   - Big Name using Python: Youtube, Dropbox, Quora, Google, Yahoo\n",
    "   - Usage of Python: Data analysis, Big data, Web design, scraping.\n",
    "       "
   ]
  },
  {
   "cell_type": "markdown",
   "metadata": {},
   "source": [
    "## How to install python ?\n",
    "Here is a concise installation instruction for install python on Windows or Mac OS:\n",
    "https://www.py4e.com/lessons/install\n"
   ]
  },
  {
   "cell_type": "markdown",
   "metadata": {},
   "source": [
    "## HelloClass!  \n",
    "\n",
    "Running python scripts (code) is quite simple. If you have already install python in your computer, you can run your code in your shell by 2 ways.\n",
    " - Run your script directly, type this command in your terminal (shell): *python YourPythonScript.py*. Python file can be edited by almost any text editor (Notepad on Windows, TextEdit on Mac, gedit/nano/vim on Ubuntu, etc).\n",
    " - Type *python* and hit Enter to start a Python shell, then you can run your code in interactive mode (similiar to R and Matlab).\n",
    " \n",
    "Command *python* will call your Python interpreter. If you have many Python interpreters in your computer, you need to specify which one you would like to call."
   ]
  },
  {
   "cell_type": "markdown",
   "metadata": {},
   "source": [
    "## Tools\n",
    "### Editor or IDE (Integrated Development Environment)\n",
    " - Editors are light, easy to use, and they (some without GUI) can be used almost everywhere. But you need to manully configure your editor and install extensions. I would recommand Sublime Text(Free).\n",
    " - IDE is very powerful and efficient when you develop a program in a single language. But it is heavy, and its GUI makes it difficult to develop programs in a server. I would recommand Pycharm for python. https://www.jetbrains.com/pycharm/\n",
    " - Hybrid: vscode is a lightweight free tool which works like a editor, but it also has some features of IDE. It can support different languages by its extensions. https://code.visualstudio.com/docs/editor/whyvscode\n",
    " \n",
    "Writing code from scratch and learning to use documentations is important for beginners.\n"
   ]
  },
  {
   "cell_type": "markdown",
   "metadata": {},
   "source": [
    "### Anaconda\n",
    "Anaconda is a powerful Python development platform, it supports Ipython (a powerful shell), Spider (a IDE), Jupyter notebook (which I am using now) and virtual environment management tool."
   ]
  },
  {
   "cell_type": "markdown",
   "metadata": {},
   "source": [
    "### The Jupyter Notebook \n",
    "The Jupyter Notebook is a web application that allows you to create and share documents that contain live code, equations, visualizations and explanatory text. Uses include: data cleaning and transformation, numerical simulation, statistical modeling, machine learning and much more."
   ]
  },
  {
   "cell_type": "code",
   "execution_count": 4,
   "metadata": {},
   "outputs": [],
   "source": [
    "a = 1"
   ]
  },
  {
   "cell_type": "code",
   "execution_count": 5,
   "metadata": {},
   "outputs": [
    {
     "data": {
      "text/plain": [
       "1"
      ]
     },
     "execution_count": 5,
     "metadata": {},
     "output_type": "execute_result"
    }
   ],
   "source": [
    "a"
   ]
  },
  {
   "cell_type": "code",
   "execution_count": 6,
   "metadata": {},
   "outputs": [
    {
     "name": "stdout",
     "output_type": "stream",
     "text": [
      "hello world\n"
     ]
    }
   ],
   "source": [
    "print('hello world')"
   ]
  },
  {
   "cell_type": "code",
   "execution_count": 8,
   "metadata": {},
   "outputs": [
    {
     "name": "stdout",
     "output_type": "stream",
     "text": [
      "0\n",
      "1\n",
      "2\n",
      "3\n",
      "4\n"
     ]
    }
   ],
   "source": [
    "for k in range(5):\n",
    "    print(k)"
   ]
  },
  {
   "cell_type": "code",
   "execution_count": 1,
   "metadata": {},
   "outputs": [
    {
     "name": "stdout",
     "output_type": "stream",
     "text": [
      "4\n"
     ]
    }
   ],
   "source": [
    "print (4)"
   ]
  },
  {
   "cell_type": "markdown",
   "metadata": {},
   "source": [
    "## Python 2 or Python 3"
   ]
  },
  {
   "cell_type": "markdown",
   "metadata": {},
   "source": [
    "Python 2 or 3 are similar. There is no right or wrong in choosing either version. However, it is better to keep the same version to avoid common pitfalls switching. Also, if you are building your own software application, check on the third-party packages you plan to use. Python 3 has been a mature language, but it doesn't mean that every package supports both Python 2 and 3.  "
   ]
  },
  {
   "cell_type": "markdown",
   "metadata": {},
   "source": [
    "Once you install Python, a translation tool *2to3* should be automatically installed in your system. You can convert your python 2 script to python 3 scripy by easily running this in a terminal:"
   ]
  },
  {
   "cell_type": "markdown",
   "metadata": {},
   "source": [
    "<code>2to3 -W yourPython2file.py</code>"
   ]
  },
  {
   "cell_type": "code",
   "execution_count": null,
   "metadata": {},
   "outputs": [],
   "source": [
    "# This is an invalid statement in Python 3.\n",
    "print 3"
   ]
  },
  {
   "cell_type": "code",
   "execution_count": null,
   "metadata": {},
   "outputs": [],
   "source": [
    "print(3)"
   ]
  },
  {
   "cell_type": "markdown",
   "metadata": {},
   "source": [
    "## Install Packages"
   ]
  },
  {
   "cell_type": "markdown",
   "metadata": {},
   "source": [
    "##### In Windows Environment"
   ]
  },
  {
   "cell_type": "markdown",
   "metadata": {},
   "source": [
    "You can use the command\n",
    "\n",
    "    > conda \n",
    "    \n",
    "or\n",
    "\n",
    "    > pip\n",
    "    \n",
    "Both *conda* and *pip* come with your Anaconda installation. The main difference is that *conda* installs from binary packages and *pip* installs (but not all) from compiling the source. However, in Windows environemnt, compiling from the source means that you need to install Visual Studio. \n"
   ]
  },
  {
   "cell_type": "markdown",
   "metadata": {},
   "source": [
    "##### Calling the Underlying System"
   ]
  },
  {
   "cell_type": "code",
   "execution_count": 10,
   "metadata": {},
   "outputs": [
    {
     "name": "stdout",
     "output_type": "stream",
     "text": [
      "PING www.google.com (172.217.11.4) 56(84) bytes of data.\n",
      "64 bytes from lga25s60-in-f4.1e100.net (172.217.11.4): icmp_seq=1 ttl=56 time=6.32 ms\n",
      "64 bytes from lga25s60-in-f4.1e100.net (172.217.11.4): icmp_seq=2 ttl=56 time=66.6 ms\n",
      "64 bytes from lga25s60-in-f4.1e100.net (172.217.11.4): icmp_seq=3 ttl=56 time=8.62 ms\n",
      "64 bytes from lga25s60-in-f4.1e100.net (172.217.11.4): icmp_seq=4 ttl=56 time=6.77 ms\n",
      "64 bytes from lga25s60-in-f4.1e100.net (172.217.11.4): icmp_seq=5 ttl=56 time=14.2 ms\n",
      "64 bytes from lga25s60-in-f4.1e100.net (172.217.11.4): icmp_seq=6 ttl=56 time=13.7 ms\n",
      "64 bytes from lga25s60-in-f4.1e100.net (172.217.11.4): icmp_seq=7 ttl=56 time=11.0 ms\n",
      "64 bytes from lga25s60-in-f4.1e100.net (172.217.11.4): icmp_seq=8 ttl=56 time=71.2 ms\n",
      "^C\n",
      "\n",
      "--- www.google.com ping statistics ---\n",
      "9 packets transmitted, 9 received, 0% packet loss, time 8008ms\n",
      "rtt min/avg/max/mdev = 6.328/24.232/71.250/24.233 ms\n"
     ]
    }
   ],
   "source": [
    "!ping www.google.com"
   ]
  },
  {
   "cell_type": "markdown",
   "metadata": {},
   "source": [
    "Please remember that ! command is system dependent. Difference operating systems will response differently. "
   ]
  },
  {
   "cell_type": "markdown",
   "metadata": {},
   "source": [
    "##### Magic Commands"
   ]
  },
  {
   "cell_type": "code",
   "execution_count": 7,
   "metadata": {},
   "outputs": [
    {
     "name": "stdout",
     "output_type": "stream",
     "text": [
      "Requirement already satisfied: numpy in /Users/DanWang/anaconda3/lib/python3.6/site-packages (1.14.3)\n",
      "\u001b[33mYou are using pip version 18.1, however version 19.0.1 is available.\n",
      "You should consider upgrading via the 'pip install --upgrade pip' command.\u001b[0m\n"
     ]
    }
   ],
   "source": [
    "!pip install numpy"
   ]
  },
  {
   "cell_type": "code",
   "execution_count": 2,
   "metadata": {},
   "outputs": [
    {
     "name": "stderr",
     "output_type": "stream",
     "text": [
      "ERROR:root:File `'hello.py'` not found.\n"
     ]
    }
   ],
   "source": [
    "run hello.py"
   ]
  },
  {
   "cell_type": "code",
   "execution_count": 9,
   "metadata": {},
   "outputs": [
    {
     "name": "stdout",
     "output_type": "stream",
     "text": [
      "hello class!\n"
     ]
    }
   ],
   "source": [
    "%run hello.py"
   ]
  },
  {
   "cell_type": "markdown",
   "metadata": {},
   "source": [
    "# A Python program"
   ]
  },
  {
   "cell_type": "markdown",
   "metadata": {},
   "source": [
    "Here is a typical python program, let's look into it."
   ]
  },
  {
   "cell_type": "code",
   "execution_count": 1,
   "metadata": {},
   "outputs": [
    {
     "name": "stdout",
     "output_type": "stream",
     "text": [
      "1.0 TB\n",
      "931.3 GiB\n"
     ]
    }
   ],
   "source": [
    "SUFFIXES = {1000: ['KB', 'MB', 'GB', 'TB', 'PB', 'EB', 'ZB', 'YB'],          \n",
    "            1024: ['KiB', 'MiB', 'GiB', 'TiB', 'PiB', 'EiB', 'ZiB', 'YiB']}\n",
    "\n",
    "\n",
    "def approximate_size(size, a_kilobyte_is_1024_bytes=True):\n",
    "    '''Convert a file size to human-readable form.\n",
    "    Keyword arguments:\n",
    "    size -- file size in bytes\n",
    "    a_kilobyte_is_1024_bytes -- if True (default), use multiples of 1024\n",
    "    if False, use multiples of 1000\n",
    "    Returns: string\n",
    "    '''\n",
    "    if size < 0:\n",
    "        raise ValueError('number must be non-negative')\n",
    "    multiple = 1024 if a_kilobyte_is_1024_bytes else 1000 # C: multiple = a_kilobyte_is_1024_bytes ? 1024 : 1000\n",
    "    for suffix in SUFFIXES[multiple]:\n",
    "        size /= multiple\n",
    "        if size < multiple:\n",
    "            return '{0:.1f} {1}'.format(size, suffix)\n",
    "    raise ValueError('number too large')\n",
    "\n",
    "\n",
    "if __name__ == '__main__':\n",
    "    print(approximate_size(1000000000000, False))\n",
    "    print(approximate_size(1000000000000))"
   ]
  },
  {
   "cell_type": "markdown",
   "metadata": {},
   "source": [
    " - SUFFIXES: A dictionary (basic data structure in python) whose key is a INT type number, and value is a list (another basic dasta structure in python)\n",
    " - Using keyword def to define a function\n",
    " - Indent is meaningful in python, an indent generally follows colon (:)\n",
    " - *\\__name\\__* is an attribute of a module object, it is the name of the module if you using *import*, but it is *\\__main\\__* if you run it directly.\n",
    " - Using three single quotation to write doc string (''' ''')\n",
    " - Using # to comment"
   ]
  },
  {
   "cell_type": "code",
   "execution_count": null,
   "metadata": {},
   "outputs": [],
   "source": []
  }
 ],
 "metadata": {
  "kernelspec": {
   "display_name": "Python 3",
   "language": "python",
   "name": "python3"
  },
  "language_info": {
   "codemirror_mode": {
    "name": "ipython",
    "version": 3
   },
   "file_extension": ".py",
   "mimetype": "text/x-python",
   "name": "python",
   "nbconvert_exporter": "python",
   "pygments_lexer": "ipython3",
   "version": "3.7.3"
  }
 },
 "nbformat": 4,
 "nbformat_minor": 2
}
